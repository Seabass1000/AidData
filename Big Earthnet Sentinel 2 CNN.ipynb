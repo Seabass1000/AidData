{
 "cells": [
  {
   "cell_type": "code",
   "execution_count": 7,
   "id": "63c0b026",
   "metadata": {},
   "outputs": [],
   "source": [
    "import tensorflow as tf\n",
    "import tensorflow_datasets as tfds\n",
    "from tensorflow.keras import layers, models\n",
    "\n",
    "import os\n",
    "import matplotlib.pyplot as plt\n",
    "import pandas as pd\n",
    "import numpy as np\n",
    "from PIL import Image\n",
    "from tqdm import tqdm\n",
    "from tqdm.notebook import tqdm\n",
    "\n",
    "from sklearn.metrics import confusion_matrix\n",
    "from sklearn import model_selection"
   ]
  },
  {
   "cell_type": "code",
   "execution_count": null,
   "id": "ac1ed1b9",
   "metadata": {},
   "outputs": [],
   "source": [
    "(ds_train, ds_test), ds_info = tfds.load('bigearthnet', split=['train', 'test'],\n",
    "                                         as_supervised=True, with_info=True, shuffle_files=True)\n"
   ]
  },
  {
   "cell_type": "markdown",
   "id": "04087cb5",
   "metadata": {},
   "source": [
    "### Resnet50 Model"
   ]
  },
  {
   "cell_type": "code",
   "execution_count": null,
   "id": "a90639bd",
   "metadata": {},
   "outputs": [],
   "source": [
    "from keras_applications.resnet import ResNet50\n",
    "\n",
    "height = 100 #dimensions of image\n",
    "width = 100\n",
    "channel = 12 #RGB\n",
    "\n",
    "# Create pre-trained ResNet50 without top layer\n",
    "model_resnet50 = ResNet50(include_top=False, weights=\"imagenet\", input_shape=(height, width, channel))\n"
   ]
  },
  {
   "cell_type": "markdown",
   "id": "8e64eaf5",
   "metadata": {},
   "source": [
    "### Resnet101 Model"
   ]
  },
  {
   "cell_type": "code",
   "execution_count": null,
   "id": "4e1ee738",
   "metadata": {},
   "outputs": [],
   "source": [
    "from kResNet101.py import DNN_model as Resnet101\n",
    "\n",
    "height = 100 #dimensions of image\n",
    "width = 100\n",
    "channel = 12 #RGB\n",
    "\n",
    "# Create pre-trained ResNet50 without top layer\n",
    "model_resnet101 = ResNet101(include_top=False, weights=\"imagenet\", input_shape=(height, width, channel))\n"
   ]
  },
  {
   "cell_type": "markdown",
   "id": "45998e7e",
   "metadata": {},
   "source": [
    "### Resnet152 Model"
   ]
  },
  {
   "cell_type": "code",
   "execution_count": null,
   "id": "af7fec4e",
   "metadata": {},
   "outputs": [],
   "source": [
    "from kResNet152.py import DNN_model as Resnet152\n",
    "\n",
    "height = 100 #dimensions of image\n",
    "width = 100\n",
    "channel = 3 #RGB\n",
    "\n",
    "# Create pre-trained ResNet50 without top layer\n",
    "model_resnet152 = ResNet152(include_top=False, weights=\"imagenet\", input_shape=(height, width, channel))\n"
   ]
  },
  {
   "cell_type": "markdown",
   "id": "432f05f1",
   "metadata": {},
   "source": [
    "### K-Branch Model"
   ]
  },
  {
   "cell_type": "code",
   "execution_count": null,
   "id": "ef58117c",
   "metadata": {},
   "outputs": [],
   "source": [
    "from K-BranchCNN.py import DNN_model as KBranchCNN\n",
    "\n",
    "height = 100 #dimensions of image\n",
    "width = 100\n",
    "channel = 12 #RGB\n",
    "\n",
    "# Create pre-trained ResNet50 without top layer\n",
    "model_resnet = KBranchCNN(include_top=False, weights=\"imagenet\", input_shape=(height, width, channel))\n"
   ]
  },
  {
   "cell_type": "markdown",
   "id": "b22a8dfb",
   "metadata": {},
   "source": [
    "### Shallow CNN"
   ]
  },
  {
   "cell_type": "code",
   "execution_count": null,
   "id": "f60f79d5",
   "metadata": {},
   "outputs": [],
   "source": [
    "model = models.Sequential()\n",
    "model.add(layers.Conv2D(32, (126, 126), activation = 'relu', use_bias=True, kernel_regularizer =tf.keras.regularizers.l2( l=0.01), input_shape=(84, 173, 1)))\n",
    "model.add(layers.MaxPooling2D((63, 63)))\n",
    "model.add(layers.Conv2D(64, (61, 61), activation = 'relu', use_bias=True, kernel_regularizer =tf.keras.regularizers.l2( l=0.01)))\n",
    "model.add(layers.MaxPooling2D((30, 30)))\n",
    "model.add(layers.Conv2D(128, (28, 28), activation = 'relu', use_bias=True, kernel_regularizer =tf.keras.regularizers.l2( l=0.01)))\n",
    "model.add(layers.MaxPooling2D((14, 14)))\n",
    "\n",
    "# fully connected\n",
    "model.add(layers.Flatten())\n",
    "model.add(layers.Dense(128, activation = \"relu\"))\n",
    "model.add(layers.Dropout(0.5))\n",
    "model.add(layers.Dense(len(df['classID'].value_counts()), activation = \"softmax\"))"
   ]
  },
  {
   "cell_type": "code",
   "execution_count": null,
   "id": "896ff776",
   "metadata": {},
   "outputs": [],
   "source": [
    "# Set a compiler\n",
    "\n",
    "model.compile(optimizer='adam',\n",
    "              loss=tf.keras.losses.categorical_crossentropy,\n",
    "              metrics=['accuracy'])"
   ]
  },
  {
   "cell_type": "code",
   "execution_count": null,
   "id": "9f27a161",
   "metadata": {},
   "outputs": [],
   "source": [
    "# Set a learning rate annealer\n",
    "learning_rate_reduction = tf.keras.callbacks.ReduceLROnPlateau(monitor='val_loss', \n",
    "                                            patience=3, \n",
    "                                            verbose=1, \n",
    "                                            factor=0.5, \n",
    "                                            min_lr=0.00001)"
   ]
  },
  {
   "cell_type": "code",
   "execution_count": null,
   "id": "4a41c719",
   "metadata": {},
   "outputs": [],
   "source": [
    "# Fit the data\n",
    "history = model.fit(X_train, y_train, epochs=10, \n",
    "                    validation_data=(X_test, y_test), \n",
    "                    callbacks=[learning_rate_reduction])"
   ]
  },
  {
   "cell_type": "code",
   "execution_count": null,
   "id": "b98ecf24",
   "metadata": {},
   "outputs": [],
   "source": [
    "model_resnet.predict()"
   ]
  },
  {
   "cell_type": "code",
   "execution_count": 2,
   "id": "a5f0d1a2",
   "metadata": {},
   "outputs": [],
   "source": []
  },
  {
   "cell_type": "code",
   "execution_count": null,
   "id": "9d65b3a6",
   "metadata": {},
   "outputs": [],
   "source": []
  },
  {
   "cell_type": "code",
   "execution_count": null,
   "id": "e656c0c9",
   "metadata": {},
   "outputs": [],
   "source": []
  },
  {
   "cell_type": "code",
   "execution_count": null,
   "id": "0bdbf73f",
   "metadata": {},
   "outputs": [],
   "source": []
  }
 ],
 "metadata": {
  "kernelspec": {
   "display_name": "Python 3",
   "language": "python",
   "name": "python3"
  },
  "language_info": {
   "codemirror_mode": {
    "name": "ipython",
    "version": 3
   },
   "file_extension": ".py",
   "mimetype": "text/x-python",
   "name": "python",
   "nbconvert_exporter": "python",
   "pygments_lexer": "ipython3",
   "version": "3.8.8"
  }
 },
 "nbformat": 4,
 "nbformat_minor": 5
}
